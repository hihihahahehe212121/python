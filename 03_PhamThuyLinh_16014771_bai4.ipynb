{
  "nbformat": 4,
  "nbformat_minor": 0,
  "metadata": {
    "colab": {
      "name": "PhamThuyLinh_16014771_bai4.ipynb",
      "provenance": []
    },
    "kernelspec": {
      "name": "python3",
      "display_name": "Python 3"
    }
  },
  "cells": [
    {
      "cell_type": "code",
      "metadata": {
        "id": "rPRmioFqsU00"
      },
      "source": [
        "import math\n",
        "import statistics\n",
        "import numpy as np\n",
        "import scipy.stats\n",
        "import pandas as pd"
      ],
      "execution_count": null,
      "outputs": []
    },
    {
      "cell_type": "code",
      "metadata": {
        "id": "rkQUE05QsY0C",
        "colab": {
          "base_uri": "https://localhost:8080/"
        },
        "outputId": "315a6226-5ee6-4828-9d84-a97c5c52747c"
      },
      "source": [
        "x = [8.0, 1, 2.5, 4, 28.0]\n",
        "x_with_nan = [8.0, 1, 2.5, math.nan, 4, 28.0]\n"
      ],
      "execution_count": null,
      "outputs": [
        {
          "output_type": "execute_result",
          "data": {
            "text/plain": [
              "[8.0, 1, 2.5, nan, 4, 28.0]"
            ]
          },
          "metadata": {
            "tags": []
          },
          "execution_count": 2
        }
      ]
    },
    {
      "cell_type": "code",
      "metadata": {
        "id": "OOYtwAQWs2cx",
        "colab": {
          "base_uri": "https://localhost:8080/"
        },
        "outputId": "c2de261f-25c1-479a-d620-c572e6b28c91"
      },
      "source": [
        "x_with_nan"
      ],
      "execution_count": null,
      "outputs": [
        {
          "output_type": "execute_result",
          "data": {
            "text/plain": [
              "[8.0, 1, 2.5, nan, 4, 28.0]"
            ]
          },
          "metadata": {
            "tags": []
          },
          "execution_count": 10
        }
      ]
    },
    {
      "cell_type": "code",
      "metadata": {
        "id": "Q1wOlsjisgDh",
        "colab": {
          "base_uri": "https://localhost:8080/"
        },
        "outputId": "4fadf41c-83ee-49fc-dfc1-6c0fa14d9cc0"
      },
      "source": [
        "x"
      ],
      "execution_count": null,
      "outputs": [
        {
          "output_type": "execute_result",
          "data": {
            "text/plain": [
              "[8.0, 1, 2.5, 4, 28.0]"
            ]
          },
          "metadata": {
            "tags": []
          },
          "execution_count": 8
        }
      ]
    },
    {
      "cell_type": "code",
      "metadata": {
        "id": "Lz1X52zZsxug",
        "colab": {
          "base_uri": "https://localhost:8080/"
        },
        "outputId": "e09cd60e-eb9c-43b3-e507-93172fa252c8"
      },
      "source": [
        "math.isnan(np.nan), np.isnan(math.nan)"
      ],
      "execution_count": null,
      "outputs": [
        {
          "output_type": "execute_result",
          "data": {
            "text/plain": [
              "(True, True)"
            ]
          },
          "metadata": {
            "tags": []
          },
          "execution_count": 9
        }
      ]
    },
    {
      "cell_type": "code",
      "metadata": {
        "id": "XtDylaZuskCx",
        "colab": {
          "base_uri": "https://localhost:8080/"
        },
        "outputId": "ec51ae6b-7eea-4c32-c355-7ac289ca3324"
      },
      "source": [
        "y, y_with_nan = np.array(x), np.array(x_with_nan)\n",
        "z, z_with_nan = pd.Series(x), pd.Series(x_with_nan)\n"
      ],
      "execution_count": null,
      "outputs": [
        {
          "output_type": "execute_result",
          "data": {
            "text/plain": [
              "array([ 8. ,  1. ,  2.5,  4. , 28. ])"
            ]
          },
          "metadata": {
            "tags": []
          },
          "execution_count": 4
        }
      ]
    },
    {
      "cell_type": "code",
      "metadata": {
        "id": "Nc-iXx9MsvS4"
      },
      "source": [
        "y"
      ],
      "execution_count": null,
      "outputs": []
    },
    {
      "cell_type": "code",
      "metadata": {
        "id": "pbGHgV1Msmbh",
        "colab": {
          "base_uri": "https://localhost:8080/"
        },
        "outputId": "94994cb1-e7b6-4897-e25c-64e0bfdeac1f"
      },
      "source": [
        "y_with_nan"
      ],
      "execution_count": null,
      "outputs": [
        {
          "output_type": "execute_result",
          "data": {
            "text/plain": [
              "array([ 8. ,  1. ,  2.5,  nan,  4. , 28. ])"
            ]
          },
          "metadata": {
            "tags": []
          },
          "execution_count": 6
        }
      ]
    },
    {
      "cell_type": "code",
      "metadata": {
        "id": "SklsLA8ysrYB",
        "colab": {
          "base_uri": "https://localhost:8080/"
        },
        "outputId": "cb128546-e6e8-4339-a154-6a2e1d485b16"
      },
      "source": [
        "z"
      ],
      "execution_count": null,
      "outputs": [
        {
          "output_type": "execute_result",
          "data": {
            "text/plain": [
              "0     8.0\n",
              "1     1.0\n",
              "2     2.5\n",
              "3     4.0\n",
              "4    28.0\n",
              "dtype: float64"
            ]
          },
          "metadata": {
            "tags": []
          },
          "execution_count": 7
        }
      ]
    },
    {
      "cell_type": "code",
      "metadata": {
        "id": "4-RhtLTTs945"
      },
      "source": [
        "z_with_nan"
      ],
      "execution_count": null,
      "outputs": []
    },
    {
      "cell_type": "code",
      "metadata": {
        "id": "3UdcSlHQs__Z",
        "colab": {
          "base_uri": "https://localhost:8080/"
        },
        "outputId": "a3a2e82b-4e32-4737-f7b4-004f81a1cd6f"
      },
      "source": [
        "math.isnan(y_with_nan[3]), np.isnan(y_with_nan[3])"
      ],
      "execution_count": null,
      "outputs": [
        {
          "output_type": "execute_result",
          "data": {
            "text/plain": [
              "(True, True)"
            ]
          },
          "metadata": {
            "tags": []
          },
          "execution_count": 12
        }
      ]
    },
    {
      "cell_type": "code",
      "metadata": {
        "id": "nki1ieAUtBvh",
        "colab": {
          "base_uri": "https://localhost:8080/"
        },
        "outputId": "79c41ba5-c83d-440b-cda0-e4529c417da3"
      },
      "source": [
        "mean_ = sum(x) / len(x)\n",
        "mean_"
      ],
      "execution_count": null,
      "outputs": [
        {
          "output_type": "execute_result",
          "data": {
            "text/plain": [
              "8.7"
            ]
          },
          "metadata": {
            "tags": []
          },
          "execution_count": 13
        }
      ]
    },
    {
      "cell_type": "code",
      "metadata": {
        "id": "4mH5raYWtJUh",
        "colab": {
          "base_uri": "https://localhost:8080/"
        },
        "outputId": "b807cec8-8133-4d87-a0cc-c79602744346"
      },
      "source": [
        "mean_ = statistics.mean(x)\n",
        "mean_"
      ],
      "execution_count": null,
      "outputs": [
        {
          "output_type": "execute_result",
          "data": {
            "text/plain": [
              "8.7"
            ]
          },
          "metadata": {
            "tags": []
          },
          "execution_count": 14
        }
      ]
    },
    {
      "cell_type": "code",
      "metadata": {
        "id": "_DR1qKLOtL0Z"
      },
      "source": [
        "statistics?"
      ],
      "execution_count": null,
      "outputs": []
    },
    {
      "cell_type": "code",
      "metadata": {
        "id": "80MUL73ZtNmp",
        "colab": {
          "base_uri": "https://localhost:8080/",
          "height": 167
        },
        "outputId": "3ba9d703-739e-4ef5-f475-9c286b0cbceb"
      },
      "source": [
        "mean_ = statistics.fmean(x)"
      ],
      "execution_count": null,
      "outputs": [
        {
          "output_type": "error",
          "ename": "AttributeError",
          "evalue": "ignored",
          "traceback": [
            "\u001b[0;31m---------------------------------------------------------------------------\u001b[0m",
            "\u001b[0;31mAttributeError\u001b[0m                            Traceback (most recent call last)",
            "\u001b[0;32m<ipython-input-16-474ebc7553bf>\u001b[0m in \u001b[0;36m<module>\u001b[0;34m()\u001b[0m\n\u001b[0;32m----> 1\u001b[0;31m \u001b[0mmean_\u001b[0m \u001b[0;34m=\u001b[0m \u001b[0mstatistics\u001b[0m\u001b[0;34m.\u001b[0m\u001b[0mfmean\u001b[0m\u001b[0;34m(\u001b[0m\u001b[0mx\u001b[0m\u001b[0;34m)\u001b[0m\u001b[0;34m\u001b[0m\u001b[0;34m\u001b[0m\u001b[0m\n\u001b[0m",
            "\u001b[0;31mAttributeError\u001b[0m: module 'statistics' has no attribute 'fmean'"
          ]
        }
      ]
    },
    {
      "cell_type": "markdown",
      "metadata": {
        "id": "7VOlw8tGuf76"
      },
      "source": [
        "\"\"\"không hỗ trợ fmean\"\"\""
      ]
    },
    {
      "cell_type": "code",
      "metadata": {
        "id": "keGopQ04tTTB",
        "colab": {
          "base_uri": "https://localhost:8080/"
        },
        "outputId": "95a5206c-21b3-419c-ea53-73cb43c7bcd5"
      },
      "source": [
        "mean_ = statistics.mean(x_with_nan)\n",
        "mean_"
      ],
      "execution_count": null,
      "outputs": [
        {
          "output_type": "execute_result",
          "data": {
            "text/plain": [
              "nan"
            ]
          },
          "metadata": {
            "tags": []
          },
          "execution_count": 17
        }
      ]
    },
    {
      "cell_type": "code",
      "metadata": {
        "id": "fxwQS5NntW4B",
        "colab": {
          "base_uri": "https://localhost:8080/"
        },
        "outputId": "ab520ddd-36b0-4e8a-bca1-99e6e1c9a824"
      },
      "source": [
        "mean_ = np.mean(y)\n",
        "mean_"
      ],
      "execution_count": null,
      "outputs": [
        {
          "output_type": "execute_result",
          "data": {
            "text/plain": [
              "8.7"
            ]
          },
          "metadata": {
            "tags": []
          },
          "execution_count": 18
        }
      ]
    },
    {
      "cell_type": "code",
      "metadata": {
        "id": "yQWwoSg1tZjb",
        "colab": {
          "base_uri": "https://localhost:8080/"
        },
        "outputId": "317e2fb6-9904-4173-bd1b-eb252e05f669"
      },
      "source": [
        "mean_ = y.mean()\n",
        "mean_"
      ],
      "execution_count": null,
      "outputs": [
        {
          "output_type": "execute_result",
          "data": {
            "text/plain": [
              "8.7"
            ]
          },
          "metadata": {
            "tags": []
          },
          "execution_count": 19
        }
      ]
    },
    {
      "cell_type": "code",
      "metadata": {
        "id": "zKb2kyBItb5R",
        "colab": {
          "base_uri": "https://localhost:8080/"
        },
        "outputId": "f59c0b52-92c4-4d81-c84d-428848c22a13"
      },
      "source": [
        "np.nanmean(y_with_nan)"
      ],
      "execution_count": null,
      "outputs": [
        {
          "output_type": "execute_result",
          "data": {
            "text/plain": [
              "8.7"
            ]
          },
          "metadata": {
            "tags": []
          },
          "execution_count": 20
        }
      ]
    },
    {
      "cell_type": "code",
      "metadata": {
        "id": "ATKCBLCgtcxZ",
        "colab": {
          "base_uri": "https://localhost:8080/"
        },
        "outputId": "da0b8b39-3f1e-4dbf-abbc-d825efad4e66"
      },
      "source": [
        "mean_ = z.mean()\n",
        "mean_"
      ],
      "execution_count": null,
      "outputs": [
        {
          "output_type": "execute_result",
          "data": {
            "text/plain": [
              "8.7"
            ]
          },
          "metadata": {
            "tags": []
          },
          "execution_count": 21
        }
      ]
    },
    {
      "cell_type": "code",
      "metadata": {
        "id": "2R292V9GtfVB",
        "colab": {
          "base_uri": "https://localhost:8080/"
        },
        "outputId": "c7ee367b-60fd-42ce-a164-28e1377befb6"
      },
      "source": [
        "z_with_nan.mean()"
      ],
      "execution_count": null,
      "outputs": [
        {
          "output_type": "execute_result",
          "data": {
            "text/plain": [
              "8.7"
            ]
          },
          "metadata": {
            "tags": []
          },
          "execution_count": 22
        }
      ]
    },
    {
      "cell_type": "code",
      "metadata": {
        "id": "JPjAIVVztjAR",
        "colab": {
          "base_uri": "https://localhost:8080/"
        },
        "outputId": "e19d7427-8170-4f5c-c44b-cc354be57a43"
      },
      "source": [
        "0.2 * 2 + 0.5 * 4 + 0.3 * 8"
      ],
      "execution_count": null,
      "outputs": [
        {
          "output_type": "execute_result",
          "data": {
            "text/plain": [
              "4.8"
            ]
          },
          "metadata": {
            "tags": []
          },
          "execution_count": 23
        }
      ]
    },
    {
      "cell_type": "code",
      "metadata": {
        "id": "UlK95NGDtli5",
        "colab": {
          "base_uri": "https://localhost:8080/"
        },
        "outputId": "a41d3db9-8c2f-480f-8921-56f6858f6c01"
      },
      "source": [
        "x = [8.0, 1, 2.5, 4, 28.0]\n",
        "w = [0.1, 0.2, 0.3, 0.25, 0.15]\n",
        "wmean = sum(w[i] * x[i] for i in range(len(x))) / sum(w)\n",
        "wmean"
      ],
      "execution_count": null,
      "outputs": [
        {
          "output_type": "execute_result",
          "data": {
            "text/plain": [
              "6.95"
            ]
          },
          "metadata": {
            "tags": []
          },
          "execution_count": 24
        }
      ]
    },
    {
      "cell_type": "code",
      "metadata": {
        "id": "OROgFD_AtoFx",
        "colab": {
          "base_uri": "https://localhost:8080/"
        },
        "outputId": "ca9875cc-c574-47ee-82bd-c5d4d2db1143"
      },
      "source": [
        "wmean = sum(x_ * w_ for (x_, w_) in zip(x, w)) / sum(w)\n",
        "wmean"
      ],
      "execution_count": null,
      "outputs": [
        {
          "output_type": "execute_result",
          "data": {
            "text/plain": [
              "6.95"
            ]
          },
          "metadata": {
            "tags": []
          },
          "execution_count": 25
        }
      ]
    },
    {
      "cell_type": "code",
      "metadata": {
        "id": "VBUqzKzYttbR",
        "colab": {
          "base_uri": "https://localhost:8080/"
        },
        "outputId": "7792df25-9fd6-46bf-b710-642e50d3ac21"
      },
      "source": [
        "y, z, w = np.array(x), pd.Series(x), np.array(w)\n",
        "wmean = np.average(y, weights=w)\n",
        "wmean"
      ],
      "execution_count": null,
      "outputs": [
        {
          "output_type": "execute_result",
          "data": {
            "text/plain": [
              "6.95"
            ]
          },
          "metadata": {
            "tags": []
          },
          "execution_count": 26
        }
      ]
    },
    {
      "cell_type": "code",
      "metadata": {
        "id": "BCjX18lhtvXB",
        "colab": {
          "base_uri": "https://localhost:8080/"
        },
        "outputId": "6ce2803f-fde3-46d7-d15c-89aa9f47a10f"
      },
      "source": [
        "wmean = np.average(z, weights=w)\n",
        "wmean"
      ],
      "execution_count": null,
      "outputs": [
        {
          "output_type": "execute_result",
          "data": {
            "text/plain": [
              "6.95"
            ]
          },
          "metadata": {
            "tags": []
          },
          "execution_count": 27
        }
      ]
    },
    {
      "cell_type": "code",
      "metadata": {
        "id": "G59JShmRtzG5",
        "colab": {
          "base_uri": "https://localhost:8080/"
        },
        "outputId": "d18fd6c3-8e7f-4122-9201-eb8ad1efca60"
      },
      "source": [
        "(w * y).sum() / w.sum()"
      ],
      "execution_count": null,
      "outputs": [
        {
          "output_type": "execute_result",
          "data": {
            "text/plain": [
              "6.95"
            ]
          },
          "metadata": {
            "tags": []
          },
          "execution_count": 28
        }
      ]
    },
    {
      "cell_type": "code",
      "metadata": {
        "id": "n_cr-hH8t2UJ",
        "colab": {
          "base_uri": "https://localhost:8080/"
        },
        "outputId": "a39a2bf7-040d-444a-f08f-48c7e034cf65"
      },
      "source": [
        "w = np.array([0.1, 0.2, 0.3, 0.0, 0.2, 0.1])\n",
        "(w * y_with_nan).sum() / w.sum()"
      ],
      "execution_count": null,
      "outputs": [
        {
          "output_type": "execute_result",
          "data": {
            "text/plain": [
              "nan"
            ]
          },
          "metadata": {
            "tags": []
          },
          "execution_count": 29
        }
      ]
    },
    {
      "cell_type": "code",
      "metadata": {
        "id": "oONUL3XXt5Z6",
        "colab": {
          "base_uri": "https://localhost:8080/"
        },
        "outputId": "8b8380fd-6961-48c8-ae92-8a72eef3fc58"
      },
      "source": [
        "np.average(y_with_nan, weights=w)\n",
        "np.average(z_with_nan, weights=w)"
      ],
      "execution_count": null,
      "outputs": [
        {
          "output_type": "execute_result",
          "data": {
            "text/plain": [
              "nan"
            ]
          },
          "metadata": {
            "tags": []
          },
          "execution_count": 31
        }
      ]
    },
    {
      "cell_type": "code",
      "metadata": {
        "id": "iKTSpmr2t-Va",
        "colab": {
          "base_uri": "https://localhost:8080/"
        },
        "outputId": "a0cf8f21-d8c6-457f-e433-4cab766894e7"
      },
      "source": [
        "hmean = len(x) / sum(1 / item for item in x)\n",
        "hmean"
      ],
      "execution_count": null,
      "outputs": [
        {
          "output_type": "execute_result",
          "data": {
            "text/plain": [
              "2.7613412228796843"
            ]
          },
          "metadata": {
            "tags": []
          },
          "execution_count": 33
        }
      ]
    },
    {
      "cell_type": "code",
      "metadata": {
        "id": "u5fo6U2xuELK"
      },
      "source": [
        "w = np.array([0.1, 0.2, 0.3, 0.0, 0.2, 0.1])\n"
      ],
      "execution_count": null,
      "outputs": []
    },
    {
      "cell_type": "code",
      "metadata": {
        "id": "7c5KQVybuINS",
        "colab": {
          "base_uri": "https://localhost:8080/"
        },
        "outputId": "a2cdeebe-e3fc-4bbb-d515-939aae895bf4"
      },
      "source": [
        " (w * y_with_nan).sum() / w.sum()"
      ],
      "execution_count": null,
      "outputs": [
        {
          "output_type": "execute_result",
          "data": {
            "text/plain": [
              "nan"
            ]
          },
          "metadata": {
            "tags": []
          },
          "execution_count": 37
        }
      ]
    },
    {
      "cell_type": "code",
      "metadata": {
        "id": "UBq9kd9luKUa",
        "colab": {
          "base_uri": "https://localhost:8080/"
        },
        "outputId": "b7cf8b54-7fd2-4869-8530-1137ca4f191b"
      },
      "source": [
        "np.average(y_with_nan, weights=w)"
      ],
      "execution_count": null,
      "outputs": [
        {
          "output_type": "execute_result",
          "data": {
            "text/plain": [
              "nan"
            ]
          },
          "metadata": {
            "tags": []
          },
          "execution_count": 38
        }
      ]
    },
    {
      "cell_type": "code",
      "metadata": {
        "id": "3kT-LqETuMP6",
        "colab": {
          "base_uri": "https://localhost:8080/"
        },
        "outputId": "79b86c47-fe78-4c06-9f77-d3aef151083b"
      },
      "source": [
        "np.average(z_with_nan, weights=w)"
      ],
      "execution_count": null,
      "outputs": [
        {
          "output_type": "execute_result",
          "data": {
            "text/plain": [
              "nan"
            ]
          },
          "metadata": {
            "tags": []
          },
          "execution_count": 39
        }
      ]
    },
    {
      "cell_type": "code",
      "metadata": {
        "id": "t0g7oo2nuOu0",
        "colab": {
          "base_uri": "https://localhost:8080/"
        },
        "outputId": "bab1cf4c-3617-498e-bf88-34a616238bbb"
      },
      "source": [
        "hmean = len(x) / sum(1 / item for item in x)\n",
        "hmean"
      ],
      "execution_count": null,
      "outputs": [
        {
          "output_type": "execute_result",
          "data": {
            "text/plain": [
              "2.7613412228796843"
            ]
          },
          "metadata": {
            "tags": []
          },
          "execution_count": 40
        }
      ]
    },
    {
      "cell_type": "code",
      "metadata": {
        "id": "rO6rJZViuR5S",
        "colab": {
          "base_uri": "https://localhost:8080/"
        },
        "outputId": "731f5b36-a168-4350-8743-75ed7bbf79d8"
      },
      "source": [
        "hmean = statistics.harmonic_mean(x)\n",
        "hmean"
      ],
      "execution_count": null,
      "outputs": [
        {
          "output_type": "execute_result",
          "data": {
            "text/plain": [
              "2.7613412228796843"
            ]
          },
          "metadata": {
            "tags": []
          },
          "execution_count": 41
        }
      ]
    },
    {
      "cell_type": "code",
      "metadata": {
        "id": "JudXyT0puUTi",
        "colab": {
          "base_uri": "https://localhost:8080/"
        },
        "outputId": "8682733b-7357-4520-a2e4-2ffe9bfe8d71"
      },
      "source": [
        "statistics.harmonic_mean(x_with_nan)"
      ],
      "execution_count": null,
      "outputs": [
        {
          "output_type": "execute_result",
          "data": {
            "text/plain": [
              "nan"
            ]
          },
          "metadata": {
            "tags": []
          },
          "execution_count": 43
        }
      ]
    },
    {
      "cell_type": "code",
      "metadata": {
        "id": "vOpiILqzuXN6",
        "colab": {
          "base_uri": "https://localhost:8080/"
        },
        "outputId": "02514dce-fb9a-4db2-c8cc-fb0ebacc94f8"
      },
      "source": [
        "statistics.harmonic_mean([1, 0, 2])"
      ],
      "execution_count": null,
      "outputs": [
        {
          "output_type": "execute_result",
          "data": {
            "text/plain": [
              "0"
            ]
          },
          "metadata": {
            "tags": []
          },
          "execution_count": 44
        }
      ]
    },
    {
      "cell_type": "code",
      "metadata": {
        "id": "VJTsDU8ruarS",
        "colab": {
          "base_uri": "https://localhost:8080/"
        },
        "outputId": "5d9cfa7d-8924-4d20-9e93-70c0bb48a4b8"
      },
      "source": [
        "statistics.harmonic_mean([1, 2, 2])"
      ],
      "execution_count": null,
      "outputs": [
        {
          "output_type": "execute_result",
          "data": {
            "text/plain": [
              "1.5"
            ]
          },
          "metadata": {
            "tags": []
          },
          "execution_count": 45
        }
      ]
    },
    {
      "cell_type": "markdown",
      "metadata": {
        "id": "Apt_b8m0udI6"
      },
      "source": [
        "\"\"\"không hỗ trợ giá trị âm\"\"\""
      ]
    },
    {
      "cell_type": "code",
      "metadata": {
        "id": "yTQTTC8FuiOK",
        "colab": {
          "base_uri": "https://localhost:8080/"
        },
        "outputId": "cc057ac3-00e9-4483-957f-b3073131b954"
      },
      "source": [
        "scipy.stats.hmean(z)"
      ],
      "execution_count": null,
      "outputs": [
        {
          "output_type": "execute_result",
          "data": {
            "text/plain": [
              "2.7613412228796843"
            ]
          },
          "metadata": {
            "tags": []
          },
          "execution_count": 46
        }
      ]
    },
    {
      "cell_type": "code",
      "metadata": {
        "id": "dBqpF4dQuj6T",
        "colab": {
          "base_uri": "https://localhost:8080/"
        },
        "outputId": "dbb1d58c-4619-406a-faa0-49ee13f39903"
      },
      "source": [
        "scipy.stats.hmean(y)"
      ],
      "execution_count": null,
      "outputs": [
        {
          "output_type": "execute_result",
          "data": {
            "text/plain": [
              "2.7613412228796843"
            ]
          },
          "metadata": {
            "tags": []
          },
          "execution_count": 47
        }
      ]
    },
    {
      "cell_type": "code",
      "metadata": {
        "id": "BCQc22P0uo_z"
      },
      "source": [
        "gmean = 1\n",
        "for item in x:\n",
        "  gmean *= item"
      ],
      "execution_count": null,
      "outputs": []
    },
    {
      "cell_type": "code",
      "metadata": {
        "id": "5c1XvxLsut6K",
        "colab": {
          "base_uri": "https://localhost:8080/"
        },
        "outputId": "73b378b6-0183-4e15-f209-f01274ea39ef"
      },
      "source": [
        "gmean **= 1 / len(x)\n",
        "gmean\n"
      ],
      "execution_count": null,
      "outputs": [
        {
          "output_type": "execute_result",
          "data": {
            "text/plain": [
              "4.677885674856041"
            ]
          },
          "metadata": {
            "tags": []
          },
          "execution_count": 50
        }
      ]
    },
    {
      "cell_type": "code",
      "metadata": {
        "id": "fwiSUxqVuwHa",
        "colab": {
          "base_uri": "https://localhost:8080/"
        },
        "outputId": "780344f4-43a7-4285-eb8a-d08c5c56f03a"
      },
      "source": [
        "gmean = statistics.mean(x)\n",
        "gmean"
      ],
      "execution_count": null,
      "outputs": [
        {
          "output_type": "execute_result",
          "data": {
            "text/plain": [
              "8.7"
            ]
          },
          "metadata": {
            "tags": []
          },
          "execution_count": 51
        }
      ]
    },
    {
      "cell_type": "code",
      "metadata": {
        "id": "d9TVVKr0uxKS",
        "colab": {
          "base_uri": "https://localhost:8080/"
        },
        "outputId": "b3f5737e-2283-4915-fe6f-43b06ff8e894"
      },
      "source": [
        "scipy.stats.gmean(y)\n"
      ],
      "execution_count": null,
      "outputs": [
        {
          "output_type": "execute_result",
          "data": {
            "text/plain": [
              "4.67788567485604"
            ]
          },
          "metadata": {
            "tags": []
          },
          "execution_count": 52
        }
      ]
    },
    {
      "cell_type": "code",
      "metadata": {
        "id": "EuoKn7jtuy0i",
        "colab": {
          "base_uri": "https://localhost:8080/"
        },
        "outputId": "ba0040cd-a1cd-4686-9cfe-751201117c07"
      },
      "source": [
        "scipy.stats.gmean(z)\n"
      ],
      "execution_count": null,
      "outputs": [
        {
          "output_type": "execute_result",
          "data": {
            "text/plain": [
              "4.67788567485604"
            ]
          },
          "metadata": {
            "tags": []
          },
          "execution_count": 53
        }
      ]
    },
    {
      "cell_type": "code",
      "metadata": {
        "id": "woUNcFaeu6ns"
      },
      "source": [
        "n = len(x)\n",
        "if n % 2:\n",
        "  median_ = sorted(x)[round(0.5*(n-1))]\n",
        "else:\n",
        "  x_ord, index = sorted(x), round(0.5 * n)\n",
        "  median_ = 0.5 * (x_ord[index-1] + x_ord[index])"
      ],
      "execution_count": null,
      "outputs": []
    },
    {
      "cell_type": "code",
      "metadata": {
        "id": "guxLP6_5u8HK",
        "colab": {
          "base_uri": "https://localhost:8080/"
        },
        "outputId": "9f224410-2e62-4989-bd61-00c38545acc0"
      },
      "source": [
        "median_"
      ],
      "execution_count": null,
      "outputs": [
        {
          "output_type": "execute_result",
          "data": {
            "text/plain": [
              "4"
            ]
          },
          "metadata": {
            "tags": []
          },
          "execution_count": 56
        }
      ]
    },
    {
      "cell_type": "code",
      "metadata": {
        "id": "vpj244ZFu98S",
        "colab": {
          "base_uri": "https://localhost:8080/"
        },
        "outputId": "2dbd1496-044f-4c60-e3de-19f3ff25196c"
      },
      "source": [
        "median_ = statistics.median(x)\n",
        "median_"
      ],
      "execution_count": null,
      "outputs": [
        {
          "output_type": "execute_result",
          "data": {
            "text/plain": [
              "4"
            ]
          },
          "metadata": {
            "tags": []
          },
          "execution_count": 57
        }
      ]
    },
    {
      "cell_type": "code",
      "metadata": {
        "id": "qyA4OXv1vCf6",
        "colab": {
          "base_uri": "https://localhost:8080/"
        },
        "outputId": "7242807a-74fe-4abc-9b67-23f8d889218e"
      },
      "source": [
        "median_ = statistics.median(x[:-1])\n",
        "median_"
      ],
      "execution_count": null,
      "outputs": [
        {
          "output_type": "execute_result",
          "data": {
            "text/plain": [
              "3.25"
            ]
          },
          "metadata": {
            "tags": []
          },
          "execution_count": 58
        }
      ]
    },
    {
      "cell_type": "code",
      "metadata": {
        "id": "2yeiMygGvF7L",
        "colab": {
          "base_uri": "https://localhost:8080/"
        },
        "outputId": "b544512d-7440-4499-952d-fcbbe7d06496"
      },
      "source": [
        "statistics.median_low(x[:-1])"
      ],
      "execution_count": null,
      "outputs": [
        {
          "output_type": "execute_result",
          "data": {
            "text/plain": [
              "2.5"
            ]
          },
          "metadata": {
            "tags": []
          },
          "execution_count": 59
        }
      ]
    },
    {
      "cell_type": "code",
      "metadata": {
        "id": "qUqjKJCCvH6z",
        "colab": {
          "base_uri": "https://localhost:8080/"
        },
        "outputId": "9bc5ca95-c522-4d40-df31-069326327cc3"
      },
      "source": [
        "statistics.median_high(x[:-1])"
      ],
      "execution_count": null,
      "outputs": [
        {
          "output_type": "execute_result",
          "data": {
            "text/plain": [
              "4"
            ]
          },
          "metadata": {
            "tags": []
          },
          "execution_count": 60
        }
      ]
    },
    {
      "cell_type": "code",
      "metadata": {
        "id": "qhwbAqjcvKGU",
        "colab": {
          "base_uri": "https://localhost:8080/"
        },
        "outputId": "3329d34c-89e5-4651-ff55-eb59e0ee1e6c"
      },
      "source": [
        "statistics.median(x_with_nan)"
      ],
      "execution_count": null,
      "outputs": [
        {
          "output_type": "execute_result",
          "data": {
            "text/plain": [
              "6.0"
            ]
          },
          "metadata": {
            "tags": []
          },
          "execution_count": 61
        }
      ]
    },
    {
      "cell_type": "code",
      "metadata": {
        "id": "KL-hpPfgvMhj",
        "colab": {
          "base_uri": "https://localhost:8080/"
        },
        "outputId": "03169aa5-9986-4a3d-f205-2793c582c574"
      },
      "source": [
        "statistics.median_low(x_with_nan)"
      ],
      "execution_count": null,
      "outputs": [
        {
          "output_type": "execute_result",
          "data": {
            "text/plain": [
              "4"
            ]
          },
          "metadata": {
            "tags": []
          },
          "execution_count": 62
        }
      ]
    },
    {
      "cell_type": "code",
      "metadata": {
        "id": "kEupQApxvN4S",
        "colab": {
          "base_uri": "https://localhost:8080/"
        },
        "outputId": "48e50486-eac7-44ab-9b22-acf26c2673d0"
      },
      "source": [
        "statistics.median_high(x_with_nan)"
      ],
      "execution_count": null,
      "outputs": [
        {
          "output_type": "execute_result",
          "data": {
            "text/plain": [
              "8.0"
            ]
          },
          "metadata": {
            "tags": []
          },
          "execution_count": 63
        }
      ]
    },
    {
      "cell_type": "code",
      "metadata": {
        "id": "AgheyHxjvR7K",
        "colab": {
          "base_uri": "https://localhost:8080/"
        },
        "outputId": "22c49ed3-2db2-458b-83ea-86aa9f81cf34"
      },
      "source": [
        "median_ = np.median(y)\n",
        "median_"
      ],
      "execution_count": null,
      "outputs": [
        {
          "output_type": "execute_result",
          "data": {
            "text/plain": [
              "4.0"
            ]
          },
          "metadata": {
            "tags": []
          },
          "execution_count": 64
        }
      ]
    },
    {
      "cell_type": "code",
      "metadata": {
        "id": "zyQog-2vvUCK",
        "colab": {
          "base_uri": "https://localhost:8080/"
        },
        "outputId": "1e385354-642c-47da-9a19-bdb6a6b88f26"
      },
      "source": [
        "median_ = np.median(y[:-1])\n",
        "median_"
      ],
      "execution_count": null,
      "outputs": [
        {
          "output_type": "execute_result",
          "data": {
            "text/plain": [
              "3.25"
            ]
          },
          "metadata": {
            "tags": []
          },
          "execution_count": 65
        }
      ]
    },
    {
      "cell_type": "code",
      "metadata": {
        "id": "VP-3FdrCvWEy",
        "colab": {
          "base_uri": "https://localhost:8080/"
        },
        "outputId": "5a7a4351-ccad-4578-8d98-ebfbda532638"
      },
      "source": [
        "np.nanmedian(y_with_nan)"
      ],
      "execution_count": null,
      "outputs": [
        {
          "output_type": "execute_result",
          "data": {
            "text/plain": [
              "4.0"
            ]
          },
          "metadata": {
            "tags": []
          },
          "execution_count": 66
        }
      ]
    },
    {
      "cell_type": "code",
      "metadata": {
        "id": "l4APexN5vYHr",
        "colab": {
          "base_uri": "https://localhost:8080/"
        },
        "outputId": "d323568a-f9d7-45bd-a7cf-48030fd59cb6"
      },
      "source": [
        "np.nanmedian(y_with_nan[:-1])"
      ],
      "execution_count": null,
      "outputs": [
        {
          "output_type": "execute_result",
          "data": {
            "text/plain": [
              "3.25"
            ]
          },
          "metadata": {
            "tags": []
          },
          "execution_count": 67
        }
      ]
    }
  ]
}