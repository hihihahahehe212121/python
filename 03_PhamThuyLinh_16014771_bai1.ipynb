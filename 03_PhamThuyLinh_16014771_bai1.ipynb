{
  "nbformat": 4,
  "nbformat_minor": 0,
  "metadata": {
    "colab": {
      "name": "PhamThuyLinh_16014771_bai1.ipynb",
      "provenance": [],
      "collapsed_sections": []
    },
    "kernelspec": {
      "name": "python3",
      "display_name": "Python 3"
    }
  },
  "cells": [
    {
      "cell_type": "code",
      "metadata": {
        "id": "_GJBlps1Eo9I"
      },
      "source": [
        "# Import all libraries needed for the tutorial\n",
        "from pandas import DataFrame, read_csv\n",
        "import matplotlib.pyplot as plt\n",
        "import pandas as pd #this is how I usually import pandas\n",
        "import sys #only needed to determine Python version number\n",
        "import matplotlib #only needed to determine Matplotlib version number\n",
        "# Enable inline plotting\n",
        "%matplotlib inline"
      ],
      "execution_count": null,
      "outputs": []
    },
    {
      "cell_type": "markdown",
      "metadata": {
        "id": "e4qAB76UG7x-"
      },
      "source": [
        "Các thư viện cần thiết:\n"
      ]
    },
    {
      "cell_type": "code",
      "metadata": {
        "id": "af5H5ICzFB5f",
        "colab": {
          "base_uri": "https://localhost:8080/"
        },
        "outputId": "27e15ff8-b223-4d2f-dcda-a4edf3ea6e39"
      },
      "source": [
        "print('Python version ' + sys.version)\n",
        "print('Pandas version ' + pd.__version__)\n",
        "print('Matplotlib version ' + matplotlib.__version__)\n"
      ],
      "execution_count": null,
      "outputs": [
        {
          "output_type": "stream",
          "text": [
            "Python version 3.6.9 (default, Oct  8 2020, 12:12:24) \n",
            "[GCC 8.4.0]\n",
            "Pandas version 1.1.4\n",
            "Matplotlib version 3.2.2\n"
          ],
          "name": "stdout"
        }
      ]
    },
    {
      "cell_type": "markdown",
      "metadata": {
        "id": "3XToFojeHJh1"
      },
      "source": [
        "\n"
      ]
    },
    {
      "cell_type": "code",
      "metadata": {
        "id": "MTTKtMhWHr4l"
      },
      "source": [
        "# The initial set of baby names and birth rates\n",
        "names = ['Bob','Jessica','Mary','John','Mel']\n",
        "births = [968, 155, 77, 578, 973]"
      ],
      "execution_count": null,
      "outputs": []
    },
    {
      "cell_type": "markdown",
      "metadata": {
        "id": "YBAX5pClHzJE"
      },
      "source": [
        "Lưu dữ liệu: tên, tuổi của 5 bé"
      ]
    },
    {
      "cell_type": "code",
      "metadata": {
        "id": "gocqo-MbFKhs"
      },
      "source": [
        "zip?"
      ],
      "execution_count": null,
      "outputs": []
    },
    {
      "cell_type": "markdown",
      "metadata": {
        "id": "6-JtPWe-H_mE"
      },
      "source": [
        "Hàm hợp nhất 2 dữ liệu với nhau:"
      ]
    },
    {
      "cell_type": "code",
      "metadata": {
        "id": "vQAdRz_wFPjf",
        "colab": {
          "base_uri": "https://localhost:8080/"
        },
        "outputId": "f100bae2-6977-4498-c9f0-aa6babc27f51"
      },
      "source": [
        "BabyDataSet = list(zip(names,births))\n",
        "BabyDataSet"
      ],
      "execution_count": null,
      "outputs": [
        {
          "output_type": "execute_result",
          "data": {
            "text/plain": [
              "[('Bob', 968), ('Jessica', 155), ('Mary', 77), ('John', 578), ('Mel', 973)]"
            ]
          },
          "metadata": {
            "tags": []
          },
          "execution_count": 6
        }
      ]
    },
    {
      "cell_type": "markdown",
      "metadata": {
        "id": "COdnKRwjJvum"
      },
      "source": [
        "In ra dữ liệu đã được hợp nhất"
      ]
    },
    {
      "cell_type": "code",
      "metadata": {
        "id": "TmKyuIodFYbd"
      },
      "source": [
        "df = pd.DataFrame(data = BabyDataSet, columns=['Names', 'Births'])\n",
        "df\n"
      ],
      "execution_count": null,
      "outputs": []
    },
    {
      "cell_type": "markdown",
      "metadata": {
        "id": "4a3QOmn_KRBE"
      },
      "source": [
        "Tạo DataFrame chứa dữ liệu:"
      ]
    },
    {
      "cell_type": "code",
      "metadata": {
        "id": "0MdmsOwgFbAk"
      },
      "source": [
        "df.to_csv?"
      ],
      "execution_count": null,
      "outputs": []
    },
    {
      "cell_type": "markdown",
      "metadata": {
        "id": "U5dXXPByKYEF"
      },
      "source": [
        "csv:\n",
        "\n"
      ]
    },
    {
      "cell_type": "code",
      "metadata": {
        "id": "Xads5M5MFgAM"
      },
      "source": [
        "df.to_csv('births1880.csv',index=False,header=False)"
      ],
      "execution_count": null,
      "outputs": []
    },
    {
      "cell_type": "markdown",
      "metadata": {
        "id": "OYJ7FNmOLujM"
      },
      "source": [
        "Tệp dữ liệu csv được xuất ra là:"
      ]
    },
    {
      "cell_type": "code",
      "metadata": {
        "id": "DLCQfaBJFiF8"
      },
      "source": [
        "read_csv?"
      ],
      "execution_count": null,
      "outputs": []
    },
    {
      "cell_type": "markdown",
      "metadata": {
        "id": "ya-Z8EoAL4eL"
      },
      "source": [
        "Đọc tệp:"
      ]
    },
    {
      "cell_type": "code",
      "metadata": {
        "id": "Vc0SiKE3Fq71"
      },
      "source": [
        "Location = r'/content/births1880.csv'\n",
        "df = pd.read_csv(Location)"
      ],
      "execution_count": null,
      "outputs": []
    },
    {
      "cell_type": "markdown",
      "metadata": {
        "id": "dQjFO4RiMVbz"
      },
      "source": [
        "Đọc file:"
      ]
    },
    {
      "cell_type": "code",
      "metadata": {
        "id": "X1Kwcx5uMzGF"
      },
      "source": [
        ""
      ],
      "execution_count": null,
      "outputs": []
    },
    {
      "cell_type": "code",
      "metadata": {
        "id": "Dsty7w7YGCFv",
        "colab": {
          "base_uri": "https://localhost:8080/",
          "height": 204
        },
        "outputId": "554064a2-5b19-4d4d-bbd8-b3ba4e55342c"
      },
      "source": [
        "df"
      ],
      "execution_count": null,
      "outputs": [
        {
          "output_type": "execute_result",
          "data": {
            "text/html": [
              "<div>\n",
              "<style scoped>\n",
              "    .dataframe tbody tr th:only-of-type {\n",
              "        vertical-align: middle;\n",
              "    }\n",
              "\n",
              "    .dataframe tbody tr th {\n",
              "        vertical-align: top;\n",
              "    }\n",
              "\n",
              "    .dataframe thead th {\n",
              "        text-align: right;\n",
              "    }\n",
              "</style>\n",
              "<table border=\"1\" class=\"dataframe\">\n",
              "  <thead>\n",
              "    <tr style=\"text-align: right;\">\n",
              "      <th></th>\n",
              "      <th>0</th>\n",
              "      <th>1</th>\n",
              "    </tr>\n",
              "  </thead>\n",
              "  <tbody>\n",
              "    <tr>\n",
              "      <th>0</th>\n",
              "      <td>Bob</td>\n",
              "      <td>968</td>\n",
              "    </tr>\n",
              "    <tr>\n",
              "      <th>1</th>\n",
              "      <td>Jessica</td>\n",
              "      <td>155</td>\n",
              "    </tr>\n",
              "    <tr>\n",
              "      <th>2</th>\n",
              "      <td>Mary</td>\n",
              "      <td>77</td>\n",
              "    </tr>\n",
              "    <tr>\n",
              "      <th>3</th>\n",
              "      <td>John</td>\n",
              "      <td>578</td>\n",
              "    </tr>\n",
              "    <tr>\n",
              "      <th>4</th>\n",
              "      <td>Mel</td>\n",
              "      <td>973</td>\n",
              "    </tr>\n",
              "  </tbody>\n",
              "</table>\n",
              "</div>"
            ],
            "text/plain": [
              "         0    1\n",
              "0      Bob  968\n",
              "1  Jessica  155\n",
              "2     Mary   77\n",
              "3     John  578\n",
              "4      Mel  973"
            ]
          },
          "metadata": {
            "tags": []
          },
          "execution_count": 63
        }
      ]
    },
    {
      "cell_type": "markdown",
      "metadata": {
        "id": "BReGI74MM0-j"
      },
      "source": [
        "Xuất dữ liệu:"
      ]
    },
    {
      "cell_type": "code",
      "metadata": {
        "id": "-MbyOc9yGEwk",
        "colab": {
          "base_uri": "https://localhost:8080/",
          "height": 204
        },
        "outputId": "9dff146e-21ba-48ca-eda9-cb0947c7ff75"
      },
      "source": [
        "df = pd.read_csv(Location, header=None)\n",
        "df"
      ],
      "execution_count": null,
      "outputs": [
        {
          "output_type": "execute_result",
          "data": {
            "text/html": [
              "<div>\n",
              "<style scoped>\n",
              "    .dataframe tbody tr th:only-of-type {\n",
              "        vertical-align: middle;\n",
              "    }\n",
              "\n",
              "    .dataframe tbody tr th {\n",
              "        vertical-align: top;\n",
              "    }\n",
              "\n",
              "    .dataframe thead th {\n",
              "        text-align: right;\n",
              "    }\n",
              "</style>\n",
              "<table border=\"1\" class=\"dataframe\">\n",
              "  <thead>\n",
              "    <tr style=\"text-align: right;\">\n",
              "      <th></th>\n",
              "      <th>0</th>\n",
              "      <th>1</th>\n",
              "    </tr>\n",
              "  </thead>\n",
              "  <tbody>\n",
              "    <tr>\n",
              "      <th>0</th>\n",
              "      <td>Bob</td>\n",
              "      <td>968</td>\n",
              "    </tr>\n",
              "    <tr>\n",
              "      <th>1</th>\n",
              "      <td>Jessica</td>\n",
              "      <td>155</td>\n",
              "    </tr>\n",
              "    <tr>\n",
              "      <th>2</th>\n",
              "      <td>Mary</td>\n",
              "      <td>77</td>\n",
              "    </tr>\n",
              "    <tr>\n",
              "      <th>3</th>\n",
              "      <td>John</td>\n",
              "      <td>578</td>\n",
              "    </tr>\n",
              "    <tr>\n",
              "      <th>4</th>\n",
              "      <td>Mel</td>\n",
              "      <td>973</td>\n",
              "    </tr>\n",
              "  </tbody>\n",
              "</table>\n",
              "</div>"
            ],
            "text/plain": [
              "         0    1\n",
              "0      Bob  968\n",
              "1  Jessica  155\n",
              "2     Mary   77\n",
              "3     John  578\n",
              "4      Mel  973"
            ]
          },
          "metadata": {
            "tags": []
          },
          "execution_count": 64
        }
      ]
    },
    {
      "cell_type": "code",
      "metadata": {
        "id": "iLfoOi44GG1G"
      },
      "source": [
        "df = pd.read_csv(Location, names=['Names','Births'])\n",
        "df"
      ],
      "execution_count": null,
      "outputs": []
    },
    {
      "cell_type": "markdown",
      "metadata": {
        "id": "8n4SWgbHNguE"
      },
      "source": [
        "Đặt tên cho từng cột:\n"
      ]
    },
    {
      "cell_type": "code",
      "metadata": {
        "id": "CqAOem01GJx1"
      },
      "source": [
        "import os\n",
        "os.remove(Location)"
      ],
      "execution_count": null,
      "outputs": []
    },
    {
      "cell_type": "markdown",
      "metadata": {
        "id": "9TMqBjuONS88"
      },
      "source": [
        "Xóa tệp csv sau khi sử dụng xong:"
      ]
    },
    {
      "cell_type": "code",
      "metadata": {
        "id": "yx0ppn4rGQWu",
        "colab": {
          "base_uri": "https://localhost:8080/"
        },
        "outputId": "ba1b3573-b7c0-4adb-c7f5-c4cb15d6c1e1"
      },
      "source": [
        "# Check data type of the columns\n",
        "df.dtypes"
      ],
      "execution_count": null,
      "outputs": [
        {
          "output_type": "execute_result",
          "data": {
            "text/plain": [
              "Names     object\n",
              "Births     int64\n",
              "dtype: object"
            ]
          },
          "metadata": {
            "tags": []
          },
          "execution_count": 44
        }
      ]
    },
    {
      "cell_type": "code",
      "metadata": {
        "id": "vyX2lABLGXCO"
      },
      "source": [
        "# Check data type of Births column\n",
        "df.Births.dtype"
      ],
      "execution_count": null,
      "outputs": []
    },
    {
      "cell_type": "code",
      "metadata": {
        "id": "zxhEhSDyGYn-"
      },
      "source": [
        "# Method 1:\n",
        "Sorted = df.sort_values(['Births'], ascending=False)\n",
        "Sorted.head(1)"
      ],
      "execution_count": null,
      "outputs": []
    },
    {
      "cell_type": "markdown",
      "metadata": {
        "id": "8UV-DViAOFM0"
      },
      "source": [
        "Tìm tên phổ biến nhất \n"
      ]
    },
    {
      "cell_type": "code",
      "metadata": {
        "id": "idWrmhJOGaXW",
        "colab": {
          "base_uri": "https://localhost:8080/"
        },
        "outputId": "42b7a7b5-a4c7-48e0-d4e5-8f8dcbbb7e28"
      },
      "source": [
        "# Method 2:\n",
        "df['Births'].max()"
      ],
      "execution_count": null,
      "outputs": [
        {
          "output_type": "execute_result",
          "data": {
            "text/plain": [
              "973"
            ]
          },
          "metadata": {
            "tags": []
          },
          "execution_count": 47
        }
      ]
    },
    {
      "cell_type": "code",
      "metadata": {
        "id": "FfrybDMGGcEe",
        "colab": {
          "base_uri": "https://localhost:8080/",
          "height": 238
        },
        "outputId": "e814c9bf-a4ed-4331-8bc5-fae16e9f72c5"
      },
      "source": [
        "# Create graph\n",
        "df['Births'].plot()\n",
        "\n",
        "# Maximum value in the data set\n",
        "MaxValue = df['Births'].max()\n",
        "\n",
        "# Name associated with the maximum value\n",
        "MaxName = df['Names'][df['Births'] == df['Births'].max()].values\n",
        "\n",
        "# Text to display on graph\n",
        "Text = str(MaxValue) + \" - \" + MaxName\n",
        "\n",
        "# Add text to graph\n",
        "plt.annotate(Text, xy=(1, MaxValue), \n",
        "                   xytext=(25, 0), \n",
        "                   xycoords=('axes fraction', 'data'), \n",
        "                   textcoords='offset points',\n",
        "                   arrowprops=dict(arrowstyle='-|>'))\n",
        "\n",
        "print(\"The most popular name\")\n",
        "df[df['Births'] == df['Births'].max()]\n",
        "#Sorted.head(1) can also be used"
      ],
      "execution_count": null,
      "outputs": [
        {
          "output_type": "error",
          "ename": "NameError",
          "evalue": "ignored",
          "traceback": [
            "\u001b[0;31m---------------------------------------------------------------------------\u001b[0m",
            "\u001b[0;31mNameError\u001b[0m                                 Traceback (most recent call last)",
            "\u001b[0;32m<ipython-input-2-302a4f7852ea>\u001b[0m in \u001b[0;36m<module>\u001b[0;34m()\u001b[0m\n\u001b[1;32m      1\u001b[0m \u001b[0;31m# Create graph\u001b[0m\u001b[0;34m\u001b[0m\u001b[0;34m\u001b[0m\u001b[0;34m\u001b[0m\u001b[0m\n\u001b[0;32m----> 2\u001b[0;31m \u001b[0mdf\u001b[0m\u001b[0;34m[\u001b[0m\u001b[0;34m'Births'\u001b[0m\u001b[0;34m]\u001b[0m\u001b[0;34m.\u001b[0m\u001b[0mplot\u001b[0m\u001b[0;34m(\u001b[0m\u001b[0;34m)\u001b[0m\u001b[0;34m\u001b[0m\u001b[0;34m\u001b[0m\u001b[0m\n\u001b[0m\u001b[1;32m      3\u001b[0m \u001b[0;34m\u001b[0m\u001b[0m\n\u001b[1;32m      4\u001b[0m \u001b[0;31m# Maximum value in the data set\u001b[0m\u001b[0;34m\u001b[0m\u001b[0;34m\u001b[0m\u001b[0;34m\u001b[0m\u001b[0m\n\u001b[1;32m      5\u001b[0m \u001b[0mMaxValue\u001b[0m \u001b[0;34m=\u001b[0m \u001b[0mdf\u001b[0m\u001b[0;34m[\u001b[0m\u001b[0;34m'Births'\u001b[0m\u001b[0;34m]\u001b[0m\u001b[0;34m.\u001b[0m\u001b[0mmax\u001b[0m\u001b[0;34m(\u001b[0m\u001b[0;34m)\u001b[0m\u001b[0;34m\u001b[0m\u001b[0;34m\u001b[0m\u001b[0m\n",
            "\u001b[0;31mNameError\u001b[0m: name 'df' is not defined"
          ]
        }
      ]
    },
    {
      "cell_type": "markdown",
      "metadata": {
        "id": "cgQHkhVSNymM"
      },
      "source": [
        "Biểu đồ:\n"
      ]
    }
  ]
}